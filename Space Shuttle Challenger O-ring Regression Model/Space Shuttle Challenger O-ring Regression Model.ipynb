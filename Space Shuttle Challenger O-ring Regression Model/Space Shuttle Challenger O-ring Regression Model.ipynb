{
 "cells": [
  {
   "cell_type": "code",
   "execution_count": 2,
   "metadata": {},
   "outputs": [],
   "source": [
    "# By Adam Gregg\n",
    "\n",
    "import pandas as pd\n",
    "import statsmodels.api as sm\n",
    "from sklearn.linear_model import LinearRegression \n",
    "from IPython.core.interactiveshell import InteractiveShell\n",
    "InteractiveShell.ast_node_interactivity = \"all\""
   ]
  },
  {
   "cell_type": "code",
   "execution_count": 3,
   "metadata": {},
   "outputs": [
    {
     "data": {
      "text/html": [
       "<div>\n",
       "<style scoped>\n",
       "    .dataframe tbody tr th:only-of-type {\n",
       "        vertical-align: middle;\n",
       "    }\n",
       "\n",
       "    .dataframe tbody tr th {\n",
       "        vertical-align: top;\n",
       "    }\n",
       "\n",
       "    .dataframe thead th {\n",
       "        text-align: right;\n",
       "    }\n",
       "</style>\n",
       "<table border=\"1\" class=\"dataframe\">\n",
       "  <thead>\n",
       "    <tr style=\"text-align: right;\">\n",
       "      <th></th>\n",
       "      <th>Number of O-rings</th>\n",
       "      <th>Number Experiencing Thermal Distress</th>\n",
       "      <th>Launch Temperature (F)</th>\n",
       "      <th>Leak-check Pressure (psi)</th>\n",
       "      <th>Temporal Order of Flight</th>\n",
       "    </tr>\n",
       "  </thead>\n",
       "  <tbody>\n",
       "    <tr>\n",
       "      <th>0</th>\n",
       "      <td>6</td>\n",
       "      <td>0</td>\n",
       "      <td>66</td>\n",
       "      <td>50</td>\n",
       "      <td>1</td>\n",
       "    </tr>\n",
       "    <tr>\n",
       "      <th>1</th>\n",
       "      <td>6</td>\n",
       "      <td>1</td>\n",
       "      <td>70</td>\n",
       "      <td>50</td>\n",
       "      <td>2</td>\n",
       "    </tr>\n",
       "    <tr>\n",
       "      <th>2</th>\n",
       "      <td>6</td>\n",
       "      <td>0</td>\n",
       "      <td>69</td>\n",
       "      <td>50</td>\n",
       "      <td>3</td>\n",
       "    </tr>\n",
       "    <tr>\n",
       "      <th>3</th>\n",
       "      <td>6</td>\n",
       "      <td>0</td>\n",
       "      <td>68</td>\n",
       "      <td>50</td>\n",
       "      <td>4</td>\n",
       "    </tr>\n",
       "    <tr>\n",
       "      <th>4</th>\n",
       "      <td>6</td>\n",
       "      <td>0</td>\n",
       "      <td>67</td>\n",
       "      <td>50</td>\n",
       "      <td>5</td>\n",
       "    </tr>\n",
       "  </tbody>\n",
       "</table>\n",
       "</div>"
      ],
      "text/plain": [
       "   Number of O-rings  Number Experiencing Thermal Distress  \\\n",
       "0                  6                                     0   \n",
       "1                  6                                     1   \n",
       "2                  6                                     0   \n",
       "3                  6                                     0   \n",
       "4                  6                                     0   \n",
       "\n",
       "   Launch Temperature (F)  Leak-check Pressure (psi)  Temporal Order of Flight  \n",
       "0                      66                         50                         1  \n",
       "1                      70                         50                         2  \n",
       "2                      69                         50                         3  \n",
       "3                      68                         50                         4  \n",
       "4                      67                         50                         5  "
      ]
     },
     "execution_count": 3,
     "metadata": {},
     "output_type": "execute_result"
    }
   ],
   "source": [
    "# Reading the data into a dataframe\n",
    "df = pd.read_csv('o-ring-erosion-or-blowby.csv',\n",
    "                   names = ['Number of O-rings', 'Number Experiencing Thermal Distress', 'Launch Temperature (F)', \n",
    "                            'Leak-check Pressure (psi)', 'Temporal Order of Flight'])\n",
    "df.head()"
   ]
  },
  {
   "cell_type": "code",
   "execution_count": 4,
   "metadata": {},
   "outputs": [
    {
     "data": {
      "text/html": [
       "<div>\n",
       "<style scoped>\n",
       "    .dataframe tbody tr th:only-of-type {\n",
       "        vertical-align: middle;\n",
       "    }\n",
       "\n",
       "    .dataframe tbody tr th {\n",
       "        vertical-align: top;\n",
       "    }\n",
       "\n",
       "    .dataframe thead th {\n",
       "        text-align: right;\n",
       "    }\n",
       "</style>\n",
       "<table border=\"1\" class=\"dataframe\">\n",
       "  <thead>\n",
       "    <tr style=\"text-align: right;\">\n",
       "      <th></th>\n",
       "      <th>Number Experiencing Thermal Distress</th>\n",
       "      <th>Launch Temperature (F)</th>\n",
       "      <th>Leak-check Pressure (psi)</th>\n",
       "    </tr>\n",
       "  </thead>\n",
       "  <tbody>\n",
       "    <tr>\n",
       "      <th>0</th>\n",
       "      <td>0</td>\n",
       "      <td>66</td>\n",
       "      <td>50</td>\n",
       "    </tr>\n",
       "    <tr>\n",
       "      <th>1</th>\n",
       "      <td>1</td>\n",
       "      <td>70</td>\n",
       "      <td>50</td>\n",
       "    </tr>\n",
       "    <tr>\n",
       "      <th>2</th>\n",
       "      <td>0</td>\n",
       "      <td>69</td>\n",
       "      <td>50</td>\n",
       "    </tr>\n",
       "    <tr>\n",
       "      <th>3</th>\n",
       "      <td>0</td>\n",
       "      <td>68</td>\n",
       "      <td>50</td>\n",
       "    </tr>\n",
       "    <tr>\n",
       "      <th>4</th>\n",
       "      <td>0</td>\n",
       "      <td>67</td>\n",
       "      <td>50</td>\n",
       "    </tr>\n",
       "  </tbody>\n",
       "</table>\n",
       "</div>"
      ],
      "text/plain": [
       "   Number Experiencing Thermal Distress  Launch Temperature (F)  \\\n",
       "0                                     0                      66   \n",
       "1                                     1                      70   \n",
       "2                                     0                      69   \n",
       "3                                     0                      68   \n",
       "4                                     0                      67   \n",
       "\n",
       "   Leak-check Pressure (psi)  \n",
       "0                         50  \n",
       "1                         50  \n",
       "2                         50  \n",
       "3                         50  \n",
       "4                         50  "
      ]
     },
     "execution_count": 4,
     "metadata": {},
     "output_type": "execute_result"
    }
   ],
   "source": [
    "# Dropping the columns that will not contribute to the regression model\n",
    "df = df.drop(['Number of O-rings', 'Temporal Order of Flight'], axis = 1)\n",
    "df.head()"
   ]
  },
  {
   "cell_type": "code",
   "execution_count": 5,
   "metadata": {},
   "outputs": [
    {
     "data": {
      "text/plain": [
       "const                        3.329831\n",
       "Launch Temperature (F)      -0.048671\n",
       "Leak-check Pressure (psi)    0.002939\n",
       "dtype: float64"
      ]
     },
     "execution_count": 5,
     "metadata": {},
     "output_type": "execute_result"
    },
    {
     "data": {
      "text/html": [
       "<table class=\"simpletable\">\n",
       "<caption>OLS Regression Results</caption>\n",
       "<tr>\n",
       "  <th>Dep. Variable:</th>    <td>Number Experiencing Thermal Distress</td> <th>  R-squared:         </th> <td>   0.354</td>\n",
       "</tr>\n",
       "<tr>\n",
       "  <th>Model:</th>                             <td>OLS</td>                 <th>  Adj. R-squared:    </th> <td>   0.290</td>\n",
       "</tr>\n",
       "<tr>\n",
       "  <th>Method:</th>                       <td>Least Squares</td>            <th>  F-statistic:       </th> <td>   5.490</td>\n",
       "</tr>\n",
       "<tr>\n",
       "  <th>Date:</th>                       <td>Tue, 31 Jul 2018</td>           <th>  Prob (F-statistic):</th>  <td>0.0126</td> \n",
       "</tr>\n",
       "<tr>\n",
       "  <th>Time:</th>                           <td>22:03:14</td>               <th>  Log-Likelihood:    </th> <td> -17.408</td>\n",
       "</tr>\n",
       "<tr>\n",
       "  <th>No. Observations:</th>                <td>    23</td>                <th>  AIC:               </th> <td>   40.82</td>\n",
       "</tr>\n",
       "<tr>\n",
       "  <th>Df Residuals:</th>                    <td>    20</td>                <th>  BIC:               </th> <td>   44.22</td>\n",
       "</tr>\n",
       "<tr>\n",
       "  <th>Df Model:</th>                        <td>     2</td>                <th>                     </th>     <td> </td>   \n",
       "</tr>\n",
       "<tr>\n",
       "  <th>Covariance Type:</th>                <td>nonrobust</td>              <th>                     </th>     <td> </td>   \n",
       "</tr>\n",
       "</table>\n",
       "<table class=\"simpletable\">\n",
       "<tr>\n",
       "              <td></td>                 <th>coef</th>     <th>std err</th>      <th>t</th>      <th>P>|t|</th>  <th>[0.025</th>    <th>0.975]</th>  \n",
       "</tr>\n",
       "<tr>\n",
       "  <th>const</th>                     <td>    3.3298</td> <td>    1.188</td> <td>    2.803</td> <td> 0.011</td> <td>    0.851</td> <td>    5.808</td>\n",
       "</tr>\n",
       "<tr>\n",
       "  <th>Launch Temperature (F)</th>    <td>   -0.0487</td> <td>    0.017</td> <td>   -2.910</td> <td> 0.009</td> <td>   -0.084</td> <td>   -0.014</td>\n",
       "</tr>\n",
       "<tr>\n",
       "  <th>Leak-check Pressure (psi)</th> <td>    0.0029</td> <td>    0.002</td> <td>    1.699</td> <td> 0.105</td> <td>   -0.001</td> <td>    0.007</td>\n",
       "</tr>\n",
       "</table>\n",
       "<table class=\"simpletable\">\n",
       "<tr>\n",
       "  <th>Omnibus:</th>       <td>19.324</td> <th>  Durbin-Watson:     </th> <td>   2.390</td>\n",
       "</tr>\n",
       "<tr>\n",
       "  <th>Prob(Omnibus):</th> <td> 0.000</td> <th>  Jarque-Bera (JB):  </th> <td>  23.471</td>\n",
       "</tr>\n",
       "<tr>\n",
       "  <th>Skew:</th>          <td> 1.782</td> <th>  Prob(JB):          </th> <td>8.00e-06</td>\n",
       "</tr>\n",
       "<tr>\n",
       "  <th>Kurtosis:</th>      <td> 6.433</td> <th>  Cond. No.          </th> <td>1.84e+03</td>\n",
       "</tr>\n",
       "</table>"
      ],
      "text/plain": [
       "<class 'statsmodels.iolib.summary.Summary'>\n",
       "\"\"\"\n",
       "                                     OLS Regression Results                                     \n",
       "================================================================================================\n",
       "Dep. Variable:     Number Experiencing Thermal Distress   R-squared:                       0.354\n",
       "Model:                                              OLS   Adj. R-squared:                  0.290\n",
       "Method:                                   Least Squares   F-statistic:                     5.490\n",
       "Date:                                  Tue, 31 Jul 2018   Prob (F-statistic):             0.0126\n",
       "Time:                                          22:03:14   Log-Likelihood:                -17.408\n",
       "No. Observations:                                    23   AIC:                             40.82\n",
       "Df Residuals:                                        20   BIC:                             44.22\n",
       "Df Model:                                             2                                         \n",
       "Covariance Type:                              nonrobust                                         \n",
       "=============================================================================================\n",
       "                                coef    std err          t      P>|t|      [0.025      0.975]\n",
       "---------------------------------------------------------------------------------------------\n",
       "const                         3.3298      1.188      2.803      0.011       0.851       5.808\n",
       "Launch Temperature (F)       -0.0487      0.017     -2.910      0.009      -0.084      -0.014\n",
       "Leak-check Pressure (psi)     0.0029      0.002      1.699      0.105      -0.001       0.007\n",
       "==============================================================================\n",
       "Omnibus:                       19.324   Durbin-Watson:                   2.390\n",
       "Prob(Omnibus):                  0.000   Jarque-Bera (JB):               23.471\n",
       "Skew:                           1.782   Prob(JB):                     8.00e-06\n",
       "Kurtosis:                       6.433   Cond. No.                     1.84e+03\n",
       "==============================================================================\n",
       "\n",
       "Warnings:\n",
       "[1] Standard Errors assume that the covariance matrix of the errors is correctly specified.\n",
       "[2] The condition number is large, 1.84e+03. This might indicate that there are\n",
       "strong multicollinearity or other numerical problems.\n",
       "\"\"\""
      ]
     },
     "execution_count": 5,
     "metadata": {},
     "output_type": "execute_result"
    }
   ],
   "source": [
    "# In order to predict the number of O-rings that will experience thermal distress for a given flight when the launch \n",
    "# temperature is below freezing, our regression model will consist of the independent variables being Launch Temperature \n",
    "# and Leak-check pressure while the Number Experiencing Thermal Distress will be our dependent variable, \n",
    "# i.e. our target variable.\n",
    "\n",
    "# Let's first use the statsmodels OLS regression model\n",
    "Y = df['Number Experiencing Thermal Distress']\n",
    "X = df[['Launch Temperature (F)', 'Leak-check Pressure (psi)']]\n",
    "\n",
    "# Adding a constant to include intercept\n",
    "X = sm.add_constant(X)\n",
    "reg_model = sm.OLS(Y, X).fit()\n",
    "reg_model.params\n",
    "reg_model.summary()"
   ]
  },
  {
   "cell_type": "code",
   "execution_count": 6,
   "metadata": {},
   "outputs": [
    {
     "name": "stdout",
     "output_type": "stream",
     "text": [
      "Number of O-rings in distress at 0 psi and 31 degrees F: 1.82\n",
      "Number of O-rings in distress at 50 psi and 31 degrees F: 1.97\n",
      "Number of O-rings in distress at 100 psi and 31 degrees F: 2.11\n",
      "Number of O-rings in distress at 200 psi and 31 degrees F: 2.41\n"
     ]
    }
   ],
   "source": [
    "# For the prediction the following formula will be used:\n",
    "# Y = 31 * the temperature coefficient + pressure * the pressure coefficient + the constant\n",
    "constant = reg_model.params[0]\n",
    "temp_coef = reg_model.params[1]\n",
    "pressure_coef = reg_model.params[2]\n",
    "pressure_vals = [0, 50, 100, 200]\n",
    "\n",
    "for i in pressure_vals:\n",
    "    Y = 31*temp_coef + i*pressure_coef + constant\n",
    "    print(('Number of O-rings in distress at {0} psi and 31 degrees F: {1:.2f}').format(i, Y))"
   ]
  },
  {
   "cell_type": "code",
   "execution_count": 7,
   "metadata": {},
   "outputs": [
    {
     "data": {
      "text/plain": [
       "LinearRegression(copy_X=True, fit_intercept=True, n_jobs=1, normalize=False)"
      ]
     },
     "execution_count": 7,
     "metadata": {},
     "output_type": "execute_result"
    },
    {
     "data": {
      "text/plain": [
       "array([-0.04867109,  0.00293932])"
      ]
     },
     "execution_count": 7,
     "metadata": {},
     "output_type": "execute_result"
    },
    {
     "data": {
      "text/plain": [
       "3.329830717693318"
      ]
     },
     "execution_count": 7,
     "metadata": {},
     "output_type": "execute_result"
    },
    {
     "name": "stdout",
     "output_type": "stream",
     "text": [
      "Number of O-rings in distress at 0 psi and 31 degrees F: 1.82\n",
      "Number of O-rings in distress at 50 psi and 31 degrees F: 1.97\n",
      "Number of O-rings in distress at 100 psi and 31 degrees F: 2.11\n",
      "Number of O-rings in distress at 200 psi and 31 degrees F: 2.41\n"
     ]
    }
   ],
   "source": [
    "# Let's now use the sklearn linear Regression model to compare results\n",
    "Y = df['Number Experiencing Thermal Distress']\n",
    "X = df[['Launch Temperature (F)', 'Leak-check Pressure (psi)']]\n",
    "lm = LinearRegression()\n",
    "lm.fit(X, Y)\n",
    "lm.coef_\n",
    "lm.intercept_\n",
    "\n",
    "# Using the same formula as before for the prediction\n",
    "constant = lm.intercept_\n",
    "temp_coef = lm.coef_[0]\n",
    "pressure_coef = lm.coef_[1]\n",
    "pressure_vals = [0, 50, 100, 200]\n",
    "\n",
    "for i in pressure_vals:\n",
    "    Y = 31*temp_coef + i*pressure_coef + constant\n",
    "    print(('Number of O-rings in distress at {0} psi and 31 degrees F: {1:.2f}').format(i, Y))"
   ]
  },
  {
   "cell_type": "markdown",
   "metadata": {},
   "source": [
    "In conclusion, both models predict that approximately 2 O-rings will show erosion or blowby when the temperature is 31 degrees F even when the pressure is in the range of 0-200 psi. "
   ]
  }
 ],
 "metadata": {
  "kernelspec": {
   "display_name": "Python 3",
   "language": "python",
   "name": "python3"
  },
  "language_info": {
   "codemirror_mode": {
    "name": "ipython",
    "version": 3
   },
   "file_extension": ".py",
   "mimetype": "text/x-python",
   "name": "python",
   "nbconvert_exporter": "python",
   "pygments_lexer": "ipython3",
   "version": "3.6.4"
  }
 },
 "nbformat": 4,
 "nbformat_minor": 2
}

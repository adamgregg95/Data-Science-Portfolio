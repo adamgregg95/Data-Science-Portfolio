{
 "cells": [
  {
   "cell_type": "code",
   "execution_count": 33,
   "metadata": {},
   "outputs": [],
   "source": [
    "# By: Adam Gregg\n",
    "\n",
    "import numpy as np\n",
    "import random as rand \n",
    "import matplotlib.pyplot as plt\n",
    "%matplotlib inline"
   ]
  },
  {
   "cell_type": "code",
   "execution_count": 39,
   "metadata": {},
   "outputs": [
    {
     "data": {
      "text/plain": [
       "Text(0,0.5,'Number of Simulations')"
      ]
     },
     "execution_count": 39,
     "metadata": {},
     "output_type": "execute_result"
    },
    {
     "data": {
      "image/png": "[encoded data removed]",
      "text/plain": [
       "<matplotlib.figure.Figure at 0x2af3c76aba8>"
      ]
     },
     "metadata": {},
     "output_type": "display_data"
    }
   ],
   "source": [
    "# 6.5.2 Generating the null distribution and p-value by simulation - OpenIntro Statistics Third Edition\n",
    "\n",
    "# H0: There is no association between the consultant’s contributions and the clients’ complication rate. p = 0.10. \n",
    "# HA: Patients who work with the consultant tend to have a complication rate lower than 10%, i.e. p < 0.10.\n",
    "\n",
    "# Defining the function complication_rate() which will return the proportion of patients with complications.\n",
    "def complication_rate():\n",
    "    count = 0\n",
    "    num_of_patients = 62 \n",
    "# Creating a \"deck of cards\" which consists of 1 red and 9 black cards (red: num = 0, black: num = 1-9).\n",
    "# This will simulate the chance a patient has a complication if the true complication rate is 10% for the data.\n",
    "# Then performing this 62 times (i.e. one time for each patient), we will count how many times \"red\" is chosen (i.e. num = 0),\n",
    "# and divide that number by the total number of patients thus giving us the proportion of patients with complications.\n",
    "    for i in range(num_of_patients):\n",
    "        num = rand.randint(0, 9) \n",
    "        if num == 0:\n",
    "            count += 1\n",
    "    return count/num_of_patients\n",
    "\n",
    "# Simulating 10,000 studies is sufficient to get a sense of the null distribution.\n",
    "n_iter = 10000\n",
    "# Creating an empty list to store all the simulations.\n",
    "simulations = []\n",
    "\n",
    "# Running our function complication_rate() 10,000 times and storing the results in the empty list 'simulations'. \n",
    "for i in range(n_iter):\n",
    "    simulations.append(complication_rate())\n",
    "\n",
    "# Plotting our results in the form of a histogram\n",
    "plt.figure(figsize=(12,8))\n",
    "plt.hist(simulations, bins = int(np.sqrt(n_iter)), alpha = 0.8)\n",
    "plt.xlabel('P_sim')\n",
    "plt.ylabel('Number of Simulations')"
   ]
  },
  {
   "cell_type": "code",
   "execution_count": 40,
   "metadata": {},
   "outputs": [
    {
     "name": "stdout",
     "output_type": "stream",
     "text": [
      "1236\n",
      "0.1236\n"
     ]
    }
   ],
   "source": [
    "# Defining the true complication rate for liver donors working with this consultant.\n",
    "p = 3/62\n",
    "# Creating an empty list to store the results.\n",
    "left_tail = []\n",
    "\n",
    "# We will now determine how many of the proportions are equal to or less than p = 3/62.\n",
    "# This represents the sample proportions under the null distribution that provide at least as much evidence as p favoring \n",
    "# the alternative hypothesis.\n",
    "count = 0\n",
    "for i in simulations:\n",
    "    if i <= p:\n",
    "        count += 1\n",
    "        left_tail.append(i)\n",
    "\n",
    "print(len(left_tail))\n",
    "# We now use the number of simulated sample proportions less than or equal to p = 3/62 in order to construct the null \n",
    "# distribution’s left-tail area thus giving us the p-value.\n",
    "print(len(left_tail)/10000)"
   ]
  },
  {
   "cell_type": "markdown",
   "metadata": {},
   "source": [
    "Of the 10,000 simulated Psim, 1236 were smaller than or equal to p = 3/62. Since the hypothesis test is one-sided, the estimated p-value is equal to this tail area of 0.1236. Therefore, since the estimated p-value (0.1236) is larger than the signiﬁcance level (0.05), we do not reject the null hypothesis, meaning there isn’t sufficiently strong evidence to support an association between the consultant’s work and fewer surgery complications."
   ]
  }
 ],
 "metadata": {
  "kernelspec": {
   "display_name": "Python 3",
   "language": "python",
   "name": "python3"
  },
  "language_info": {
   "codemirror_mode": {
    "name": "ipython",
    "version": 3
   },
   "file_extension": ".py",
   "mimetype": "text/x-python",
   "name": "python",
   "nbconvert_exporter": "python",
   "pygments_lexer": "ipython3",
   "version": "3.6.4"
  }
 },
 "nbformat": 4,
 "nbformat_minor": 2
}

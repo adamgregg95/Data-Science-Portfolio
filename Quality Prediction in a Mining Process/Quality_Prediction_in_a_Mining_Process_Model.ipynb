{
 "cells": [
  {
   "cell_type": "code",
   "execution_count": 1,
   "metadata": {},
   "outputs": [],
   "source": [
    "import pandas as pd\n",
    "import numpy as np\n",
    "import matplotlib.pyplot as plt\n",
    "%matplotlib inline\n",
    "from IPython.core.interactiveshell import InteractiveShell\n",
    "InteractiveShell.ast_node_interactivity = \"all\""
   ]
  },
  {
   "cell_type": "code",
   "execution_count": 2,
   "metadata": {},
   "outputs": [
    {
     "data": {
      "text/html": [
       "<div>\n",
       "<style scoped>\n",
       "    .dataframe tbody tr th:only-of-type {\n",
       "        vertical-align: middle;\n",
       "    }\n",
       "\n",
       "    .dataframe tbody tr th {\n",
       "        vertical-align: top;\n",
       "    }\n",
       "\n",
       "    .dataframe thead th {\n",
       "        text-align: right;\n",
       "    }\n",
       "</style>\n",
       "<table border=\"1\" class=\"dataframe\">\n",
       "  <thead>\n",
       "    <tr style=\"text-align: right;\">\n",
       "      <th></th>\n",
       "      <th>Ave_Flot_Air_Flow</th>\n",
       "      <th>Ave_Flot_Level</th>\n",
       "      <th>% Iron Feed</th>\n",
       "      <th>Starch Flow</th>\n",
       "      <th>Amina Flow</th>\n",
       "      <th>Ore Pulp Flow</th>\n",
       "      <th>Ore Pulp pH</th>\n",
       "      <th>Ore Pulp Density</th>\n",
       "      <th>% Silica Concentrate</th>\n",
       "    </tr>\n",
       "    <tr>\n",
       "      <th>NewDateTime</th>\n",
       "      <th></th>\n",
       "      <th></th>\n",
       "      <th></th>\n",
       "      <th></th>\n",
       "      <th></th>\n",
       "      <th></th>\n",
       "      <th></th>\n",
       "      <th></th>\n",
       "      <th></th>\n",
       "    </tr>\n",
       "  </thead>\n",
       "  <tbody>\n",
       "    <tr>\n",
       "      <th>2017-04-24 00:00:00</th>\n",
       "      <td>300.263166</td>\n",
       "      <td>383.982443</td>\n",
       "      <td>55.17</td>\n",
       "      <td>1979.589150</td>\n",
       "      <td>599.676489</td>\n",
       "      <td>400.017222</td>\n",
       "      <td>9.774028</td>\n",
       "      <td>1.753206</td>\n",
       "      <td>4.360000</td>\n",
       "    </tr>\n",
       "    <tr>\n",
       "      <th>2017-04-24 01:00:00</th>\n",
       "      <td>299.782402</td>\n",
       "      <td>386.049069</td>\n",
       "      <td>55.17</td>\n",
       "      <td>1758.466329</td>\n",
       "      <td>600.043100</td>\n",
       "      <td>400.484528</td>\n",
       "      <td>9.539246</td>\n",
       "      <td>1.754190</td>\n",
       "      <td>3.290000</td>\n",
       "    </tr>\n",
       "    <tr>\n",
       "      <th>2017-04-24 02:00:00</th>\n",
       "      <td>299.750052</td>\n",
       "      <td>385.250935</td>\n",
       "      <td>55.17</td>\n",
       "      <td>2379.752428</td>\n",
       "      <td>599.948406</td>\n",
       "      <td>400.325617</td>\n",
       "      <td>9.434227</td>\n",
       "      <td>1.756873</td>\n",
       "      <td>4.900000</td>\n",
       "    </tr>\n",
       "    <tr>\n",
       "      <th>2017-04-24 03:00:00</th>\n",
       "      <td>299.997522</td>\n",
       "      <td>389.635519</td>\n",
       "      <td>55.17</td>\n",
       "      <td>2287.130046</td>\n",
       "      <td>599.580383</td>\n",
       "      <td>399.801506</td>\n",
       "      <td>9.725607</td>\n",
       "      <td>1.727125</td>\n",
       "      <td>4.860153</td>\n",
       "    </tr>\n",
       "    <tr>\n",
       "      <th>2017-04-24 04:00:00</th>\n",
       "      <td>300.005220</td>\n",
       "      <td>387.810807</td>\n",
       "      <td>55.17</td>\n",
       "      <td>2291.789167</td>\n",
       "      <td>599.871217</td>\n",
       "      <td>399.567333</td>\n",
       "      <td>9.845198</td>\n",
       "      <td>1.633063</td>\n",
       "      <td>4.780898</td>\n",
       "    </tr>\n",
       "  </tbody>\n",
       "</table>\n",
       "</div>"
      ],
      "text/plain": [
       "                     Ave_Flot_Air_Flow  Ave_Flot_Level  % Iron Feed  \\\n",
       "NewDateTime                                                           \n",
       "2017-04-24 00:00:00         300.263166      383.982443        55.17   \n",
       "2017-04-24 01:00:00         299.782402      386.049069        55.17   \n",
       "2017-04-24 02:00:00         299.750052      385.250935        55.17   \n",
       "2017-04-24 03:00:00         299.997522      389.635519        55.17   \n",
       "2017-04-24 04:00:00         300.005220      387.810807        55.17   \n",
       "\n",
       "                     Starch Flow  Amina Flow  Ore Pulp Flow  Ore Pulp pH  \\\n",
       "NewDateTime                                                                \n",
       "2017-04-24 00:00:00  1979.589150  599.676489     400.017222     9.774028   \n",
       "2017-04-24 01:00:00  1758.466329  600.043100     400.484528     9.539246   \n",
       "2017-04-24 02:00:00  2379.752428  599.948406     400.325617     9.434227   \n",
       "2017-04-24 03:00:00  2287.130046  599.580383     399.801506     9.725607   \n",
       "2017-04-24 04:00:00  2291.789167  599.871217     399.567333     9.845198   \n",
       "\n",
       "                     Ore Pulp Density  % Silica Concentrate  \n",
       "NewDateTime                                                  \n",
       "2017-04-24 00:00:00          1.753206              4.360000  \n",
       "2017-04-24 01:00:00          1.754190              3.290000  \n",
       "2017-04-24 02:00:00          1.756873              4.900000  \n",
       "2017-04-24 03:00:00          1.727125              4.860153  \n",
       "2017-04-24 04:00:00          1.633063              4.780898  "
      ]
     },
     "execution_count": 2,
     "metadata": {},
     "output_type": "execute_result"
    }
   ],
   "source": [
    "df = pd.read_csv('clean_data.csv').set_index('NewDateTime')\n",
    "\n",
    "df.head()"
   ]
  },
  {
   "cell_type": "markdown",
   "metadata": {},
   "source": [
    "### Creating Baseline Models: splitting the data, creating pipelines, and Cross-Validation"
   ]
  },
  {
   "cell_type": "code",
   "execution_count": 3,
   "metadata": {},
   "outputs": [
    {
     "data": {
      "text/plain": [
       "((1271, 8), (546, 8), (1271,), (546,))"
      ]
     },
     "execution_count": 3,
     "metadata": {},
     "output_type": "execute_result"
    }
   ],
   "source": [
    "from sklearn.model_selection import train_test_split\n",
    "from sklearn.pipeline import Pipeline\n",
    "from sklearn.preprocessing import StandardScaler\n",
    "from sklearn.linear_model import LinearRegression, SGDRegressor\n",
    "from sklearn.svm import SVR\n",
    "from sklearn.neighbors import KNeighborsRegressor\n",
    "from sklearn.ensemble import RandomForestRegressor, GradientBoostingRegressor\n",
    "\n",
    "array = df.values\n",
    "\n",
    "X = array[:,:-1]\n",
    "Y = array[:,-1]\n",
    "\n",
    "X_train, X_test, y_train, y_test = train_test_split(X, Y, test_size = 0.3, random_state = 42)\n",
    "X_train.shape, X_test.shape, y_train.shape, y_test.shape"
   ]
  },
  {
   "cell_type": "code",
   "execution_count": 4,
   "metadata": {},
   "outputs": [],
   "source": [
    "pipeline_lin = Pipeline([('scaler', StandardScaler()), ('Linear Regression', LinearRegression())])\n",
    "pipeline_SVR = Pipeline([('scaler', StandardScaler()), ('SVR', SVR())])\n",
    "pipeline_KNNReg = Pipeline([('scaler', StandardScaler()), ('KNN Regressor', KNeighborsRegressor())])\n",
    "pipeline_RFR = Pipeline([('scaler', StandardScaler()), ('Random Forest Regressor', RandomForestRegressor())])\n",
    "pipeline_GBR = Pipeline([('scaler', StandardScaler()), ('GBR', GradientBoostingRegressor())])\n",
    "pipeline_SGDReg = Pipeline([('scaler', StandardScaler()), ('SGD Regressor', SGDRegressor())])\n",
    "\n",
    "pipelines = [pipeline_lin, pipeline_SVR, pipeline_KNNReg, pipeline_RFR, pipeline_GBR, pipeline_SGDReg]\n",
    "\n",
    "pipeline_dict = {0: 'Linear Regression', 1: 'SVR', 2: 'KNN Regressor', 3: 'Random Forest Regressor', \n",
    "                 4:'GBR', 5: 'SGD Regressor'}"
   ]
  },
  {
   "cell_type": "code",
   "execution_count": 5,
   "metadata": {},
   "outputs": [
    {
     "name": "stdout",
     "output_type": "stream",
     "text": [
      "Linear Regression RMSE Score: 0.973 (0.075)\n",
      "SVR RMSE Score: 0.992 (0.102)\n",
      "KNN Regressor RMSE Score: 1.007 (0.078)\n",
      "Random Forest Regressor RMSE Score: 0.971 (0.075)\n",
      "GBR RMSE Score: 0.957 (0.065)\n",
      "SGD Regressor RMSE Score: 0.975 (0.074)\n"
     ]
    },
    {
     "name": "stderr",
     "output_type": "stream",
     "text": [
      "C:\\Users\\Adam\\Anaconda3\\lib\\site-packages\\sklearn\\linear_model\\stochastic_gradient.py:128: FutureWarning: max_iter and tol parameters have been added in <class 'sklearn.linear_model.stochastic_gradient.SGDRegressor'> in 0.19. If both are left unset, they default to max_iter=5 and tol=None. If tol is not None, max_iter defaults to max_iter=1000. From 0.21, default max_iter will be 1000, and default tol will be 1e-3.\n",
      "  \"and default tol will be 1e-3.\" % type(self), FutureWarning)\n",
      "C:\\Users\\Adam\\Anaconda3\\lib\\site-packages\\sklearn\\linear_model\\stochastic_gradient.py:128: FutureWarning: max_iter and tol parameters have been added in <class 'sklearn.linear_model.stochastic_gradient.SGDRegressor'> in 0.19. If both are left unset, they default to max_iter=5 and tol=None. If tol is not None, max_iter defaults to max_iter=1000. From 0.21, default max_iter will be 1000, and default tol will be 1e-3.\n",
      "  \"and default tol will be 1e-3.\" % type(self), FutureWarning)\n",
      "C:\\Users\\Adam\\Anaconda3\\lib\\site-packages\\sklearn\\linear_model\\stochastic_gradient.py:128: FutureWarning: max_iter and tol parameters have been added in <class 'sklearn.linear_model.stochastic_gradient.SGDRegressor'> in 0.19. If both are left unset, they default to max_iter=5 and tol=None. If tol is not None, max_iter defaults to max_iter=1000. From 0.21, default max_iter will be 1000, and default tol will be 1e-3.\n",
      "  \"and default tol will be 1e-3.\" % type(self), FutureWarning)\n",
      "C:\\Users\\Adam\\Anaconda3\\lib\\site-packages\\sklearn\\linear_model\\stochastic_gradient.py:128: FutureWarning: max_iter and tol parameters have been added in <class 'sklearn.linear_model.stochastic_gradient.SGDRegressor'> in 0.19. If both are left unset, they default to max_iter=5 and tol=None. If tol is not None, max_iter defaults to max_iter=1000. From 0.21, default max_iter will be 1000, and default tol will be 1e-3.\n",
      "  \"and default tol will be 1e-3.\" % type(self), FutureWarning)\n",
      "C:\\Users\\Adam\\Anaconda3\\lib\\site-packages\\sklearn\\linear_model\\stochastic_gradient.py:128: FutureWarning: max_iter and tol parameters have been added in <class 'sklearn.linear_model.stochastic_gradient.SGDRegressor'> in 0.19. If both are left unset, they default to max_iter=5 and tol=None. If tol is not None, max_iter defaults to max_iter=1000. From 0.21, default max_iter will be 1000, and default tol will be 1e-3.\n",
      "  \"and default tol will be 1e-3.\" % type(self), FutureWarning)\n",
      "C:\\Users\\Adam\\Anaconda3\\lib\\site-packages\\sklearn\\linear_model\\stochastic_gradient.py:128: FutureWarning: max_iter and tol parameters have been added in <class 'sklearn.linear_model.stochastic_gradient.SGDRegressor'> in 0.19. If both are left unset, they default to max_iter=5 and tol=None. If tol is not None, max_iter defaults to max_iter=1000. From 0.21, default max_iter will be 1000, and default tol will be 1e-3.\n",
      "  \"and default tol will be 1e-3.\" % type(self), FutureWarning)\n",
      "C:\\Users\\Adam\\Anaconda3\\lib\\site-packages\\sklearn\\linear_model\\stochastic_gradient.py:128: FutureWarning: max_iter and tol parameters have been added in <class 'sklearn.linear_model.stochastic_gradient.SGDRegressor'> in 0.19. If both are left unset, they default to max_iter=5 and tol=None. If tol is not None, max_iter defaults to max_iter=1000. From 0.21, default max_iter will be 1000, and default tol will be 1e-3.\n",
      "  \"and default tol will be 1e-3.\" % type(self), FutureWarning)\n",
      "C:\\Users\\Adam\\Anaconda3\\lib\\site-packages\\sklearn\\linear_model\\stochastic_gradient.py:128: FutureWarning: max_iter and tol parameters have been added in <class 'sklearn.linear_model.stochastic_gradient.SGDRegressor'> in 0.19. If both are left unset, they default to max_iter=5 and tol=None. If tol is not None, max_iter defaults to max_iter=1000. From 0.21, default max_iter will be 1000, and default tol will be 1e-3.\n",
      "  \"and default tol will be 1e-3.\" % type(self), FutureWarning)\n",
      "C:\\Users\\Adam\\Anaconda3\\lib\\site-packages\\sklearn\\linear_model\\stochastic_gradient.py:128: FutureWarning: max_iter and tol parameters have been added in <class 'sklearn.linear_model.stochastic_gradient.SGDRegressor'> in 0.19. If both are left unset, they default to max_iter=5 and tol=None. If tol is not None, max_iter defaults to max_iter=1000. From 0.21, default max_iter will be 1000, and default tol will be 1e-3.\n",
      "  \"and default tol will be 1e-3.\" % type(self), FutureWarning)\n",
      "C:\\Users\\Adam\\Anaconda3\\lib\\site-packages\\sklearn\\linear_model\\stochastic_gradient.py:128: FutureWarning: max_iter and tol parameters have been added in <class 'sklearn.linear_model.stochastic_gradient.SGDRegressor'> in 0.19. If both are left unset, they default to max_iter=5 and tol=None. If tol is not None, max_iter defaults to max_iter=1000. From 0.21, default max_iter will be 1000, and default tol will be 1e-3.\n",
      "  \"and default tol will be 1e-3.\" % type(self), FutureWarning)\n"
     ]
    }
   ],
   "source": [
    "from sklearn.model_selection import cross_val_score\n",
    "from sklearn.model_selection import KFold\n",
    "\n",
    "results = []\n",
    "std = []\n",
    "for idx, val in enumerate(pipelines):\n",
    "    kfold = KFold(n_splits = 10, random_state = 42)\n",
    "    cv_results = cross_val_score(val, X_train, y_train, cv = kfold, scoring = 'neg_mean_squared_error')\n",
    "    rmse_scores = np.sqrt(-cv_results)\n",
    "    results.append(rmse_scores.mean())\n",
    "    std.append(rmse_scores.std())\n",
    "    print(\"{0}{1}: {2:.3f} ({3:.3f})\".format(pipeline_dict[idx], ' RMSE Score', results[idx], std[idx]))"
   ]
  },
  {
   "cell_type": "markdown",
   "metadata": {},
   "source": [
    "The Gradient Boosting Regressor performs the best using a scaled version of the data. We will now build the regression algorithm using the Gradient Boosting Regressor."
   ]
  },
  {
   "cell_type": "markdown",
   "metadata": {},
   "source": [
    "### Validate Model using the test data "
   ]
  },
  {
   "cell_type": "code",
   "execution_count": 53,
   "metadata": {},
   "outputs": [
    {
     "data": {
      "text/plain": [
       "GradientBoostingRegressor(alpha=0.9, criterion='friedman_mse', init=None,\n",
       "             learning_rate=0.1, loss='ls', max_depth=3, max_features=None,\n",
       "             max_leaf_nodes=None, min_impurity_decrease=0.0,\n",
       "             min_impurity_split=None, min_samples_leaf=1,\n",
       "             min_samples_split=2, min_weight_fraction_leaf=0.0,\n",
       "             n_estimators=100, presort='auto', random_state=None,\n",
       "             subsample=1.0, verbose=0, warm_start=False)"
      ]
     },
     "execution_count": 53,
     "metadata": {},
     "output_type": "execute_result"
    },
    {
     "name": "stdout",
     "output_type": "stream",
     "text": [
      "RMSE: 0.913\n",
      "R2: 0.221\n"
     ]
    }
   ],
   "source": [
    "scaler = StandardScaler().fit(X_train)\n",
    "X_tr_scale = scaler.transform(X_train)\n",
    "X_te_scale = scaler.transform(X_test)\n",
    "\n",
    "model_GBR = GradientBoostingRegressor()\n",
    "\n",
    "model_GBR.fit(X_tr_scale, y_train)\n",
    "\n",
    "y_pred_base = model_GBR.predict(X_te_scale)\n",
    "mse = mean_squared_error(y_test, y_pred_base)\n",
    "rmse = np.sqrt(mse)\n",
    "print('RMSE: {0:.3f}'.format(rmse))\n",
    "print('R2: {0:.3f}'.format(model_GBR.score(X_te_scale, y_test)))"
   ]
  },
  {
   "cell_type": "code",
   "execution_count": 42,
   "metadata": {},
   "outputs": [],
   "source": [
    "def evaluate(predictions, test_data):\n",
    "    errors = abs(predictions - test_data)\n",
    "    mape = 100 * np.mean(errors / test_data)\n",
    "    accuracy = 100 - mape\n",
    "    print('Model Performance')\n",
    "    print('Average Error: {:0.4f}'.format(np.mean(errors)))\n",
    "    print('Accuracy = {:0.2f}%'.format(accuracy))\n",
    "    \n",
    "    return accuracy"
   ]
  },
  {
   "cell_type": "code",
   "execution_count": 54,
   "metadata": {},
   "outputs": [
    {
     "name": "stdout",
     "output_type": "stream",
     "text": [
      "Model Performance\n",
      "Average Error: 0.7170\n",
      "Accuracy = 62.24%\n"
     ]
    }
   ],
   "source": [
    "base_accuracy = evaluate(y_pred_base, y_test)"
   ]
  },
  {
   "cell_type": "markdown",
   "metadata": {},
   "source": [
    "### Using GridSearchCV to tune our Model"
   ]
  },
  {
   "cell_type": "code",
   "execution_count": 59,
   "metadata": {},
   "outputs": [
    {
     "data": {
      "text/plain": [
       "GridSearchCV(cv=KFold(n_splits=10, random_state=42, shuffle=False),\n",
       "       error_score='raise',\n",
       "       estimator=GradientBoostingRegressor(alpha=0.9, criterion='friedman_mse', init=None,\n",
       "             learning_rate=0.1, loss='ls', max_depth=3, max_features=None,\n",
       "             max_leaf_nodes=None, min_impurity_decrease=0.0,\n",
       "             min_impurity_split=None, min_samples_leaf=1,\n",
       "             min_samples_split=2, min_weight_fraction_leaf=0.0,\n",
       "             n_estimators=100, presort='auto', random_state=None,\n",
       "             subsample=1.0, verbose=0, warm_start=False),\n",
       "       fit_params=None, iid=True, n_jobs=1,\n",
       "       param_grid={'n_estimators': [100, 500, 1000], 'max_depth': [2, 3, 4], 'learning_rate': [0.1, 0.01, 0.001], 'min_samples_split': [2, 4, 6], 'min_samples_leaf': [1, 3, 5]},\n",
       "       pre_dispatch='2*n_jobs', refit=True, return_train_score='warn',\n",
       "       scoring='neg_mean_squared_error', verbose=0)"
      ]
     },
     "execution_count": 59,
     "metadata": {},
     "output_type": "execute_result"
    }
   ],
   "source": [
    "from sklearn.model_selection import GridSearchCV\n",
    "\n",
    "param_grid = {'n_estimators': [100, 500, 1000],\n",
    "              'max_depth': [2, 3, 4], \n",
    "              'learning_rate': [0.1, 0.01, 0.001],\n",
    "              'min_samples_split': [2, 4, 6], \n",
    "              'min_samples_leaf': [1, 3, 5]}\n",
    "\n",
    "model = GradientBoostingRegressor()\n",
    "\n",
    "kfold = KFold(n_splits = 10, random_state = 42)\n",
    "grid_search = GridSearchCV(model, param_grid, cv = kfold, scoring = 'neg_mean_squared_error')\n",
    "grid_search.fit(X_tr_scale, y_train)"
   ]
  },
  {
   "cell_type": "code",
   "execution_count": 61,
   "metadata": {},
   "outputs": [
    {
     "data": {
      "text/plain": [
       "{'learning_rate': 0.01,\n",
       " 'max_depth': 4,\n",
       " 'min_samples_leaf': 3,\n",
       " 'min_samples_split': 2,\n",
       " 'n_estimators': 500}"
      ]
     },
     "execution_count": 61,
     "metadata": {},
     "output_type": "execute_result"
    },
    {
     "data": {
      "text/plain": [
       "0.9485267985205853"
      ]
     },
     "execution_count": 61,
     "metadata": {},
     "output_type": "execute_result"
    }
   ],
   "source": [
    "grid_search.best_params_\n",
    "np.sqrt(-grid_search.best_score_)"
   ]
  },
  {
   "cell_type": "markdown",
   "metadata": {},
   "source": [
    "### Finalize and Validate Model with the Best Estimator previously discovered during GridSearchCV"
   ]
  },
  {
   "cell_type": "code",
   "execution_count": 62,
   "metadata": {},
   "outputs": [
    {
     "data": {
      "text/plain": [
       "GradientBoostingRegressor(alpha=0.9, criterion='friedman_mse', init=None,\n",
       "             learning_rate=0.01, loss='ls', max_depth=4, max_features=None,\n",
       "             max_leaf_nodes=None, min_impurity_decrease=0.0,\n",
       "             min_impurity_split=None, min_samples_leaf=3,\n",
       "             min_samples_split=2, min_weight_fraction_leaf=0.0,\n",
       "             n_estimators=500, presort='auto', random_state=None,\n",
       "             subsample=1.0, verbose=0, warm_start=False)"
      ]
     },
     "execution_count": 62,
     "metadata": {},
     "output_type": "execute_result"
    },
    {
     "name": "stdout",
     "output_type": "stream",
     "text": [
      "RMSE: 0.907\n",
      "R2: 0.232\n"
     ]
    }
   ],
   "source": [
    "from sklearn.metrics import mean_squared_error\n",
    "\n",
    "Final_Model = grid_search.best_estimator_ \n",
    "Final_Model.fit(X_tr_scale, y_train)\n",
    "\n",
    "y_pred_final = Final_Model.predict(X_te_scale)\n",
    "Final_mse = mean_squared_error(y_test, y_pred_final)\n",
    "Final_rmse = np.sqrt(Final_mse)\n",
    "print('RMSE: {0:.3f}'.format(Final_rmse))\n",
    "print('R2: {0:.3f}'.format(Final_Model.score(X_te_scale, y_test)))"
   ]
  },
  {
   "cell_type": "code",
   "execution_count": 64,
   "metadata": {},
   "outputs": [
    {
     "name": "stdout",
     "output_type": "stream",
     "text": [
      "Model Performance\n",
      "Average Error: 0.7045\n",
      "Accuracy = 62.89%\n"
     ]
    }
   ],
   "source": [
    "final_accuracy = evaluate(y_pred_final, y_test)"
   ]
  },
  {
   "cell_type": "code",
   "execution_count": 66,
   "metadata": {},
   "outputs": [
    {
     "name": "stdout",
     "output_type": "stream",
     "text": [
      "Improvement of 0.65%.\n"
     ]
    }
   ],
   "source": [
    "print('Improvement of {:0.2f}%.'.format(final_accuracy - base_accuracy))"
   ]
  },
  {
   "cell_type": "code",
   "execution_count": 69,
   "metadata": {},
   "outputs": [
    {
     "data": {
      "text/html": [
       "<div>\n",
       "<style scoped>\n",
       "    .dataframe tbody tr th:only-of-type {\n",
       "        vertical-align: middle;\n",
       "    }\n",
       "\n",
       "    .dataframe tbody tr th {\n",
       "        vertical-align: top;\n",
       "    }\n",
       "\n",
       "    .dataframe thead th {\n",
       "        text-align: right;\n",
       "    }\n",
       "</style>\n",
       "<table border=\"1\" class=\"dataframe\">\n",
       "  <thead>\n",
       "    <tr style=\"text-align: right;\">\n",
       "      <th></th>\n",
       "      <th>Prediction</th>\n",
       "      <th>Test Data</th>\n",
       "    </tr>\n",
       "  </thead>\n",
       "  <tbody>\n",
       "    <tr>\n",
       "      <th>0</th>\n",
       "      <td>1.790057</td>\n",
       "      <td>2.05</td>\n",
       "    </tr>\n",
       "    <tr>\n",
       "      <th>1</th>\n",
       "      <td>1.399240</td>\n",
       "      <td>0.99</td>\n",
       "    </tr>\n",
       "    <tr>\n",
       "      <th>2</th>\n",
       "      <td>2.184656</td>\n",
       "      <td>2.93</td>\n",
       "    </tr>\n",
       "    <tr>\n",
       "      <th>3</th>\n",
       "      <td>2.566644</td>\n",
       "      <td>4.79</td>\n",
       "    </tr>\n",
       "    <tr>\n",
       "      <th>4</th>\n",
       "      <td>2.366381</td>\n",
       "      <td>1.69</td>\n",
       "    </tr>\n",
       "    <tr>\n",
       "      <th>5</th>\n",
       "      <td>2.471677</td>\n",
       "      <td>1.85</td>\n",
       "    </tr>\n",
       "    <tr>\n",
       "      <th>6</th>\n",
       "      <td>3.373766</td>\n",
       "      <td>2.09</td>\n",
       "    </tr>\n",
       "    <tr>\n",
       "      <th>7</th>\n",
       "      <td>1.506497</td>\n",
       "      <td>1.08</td>\n",
       "    </tr>\n",
       "    <tr>\n",
       "      <th>8</th>\n",
       "      <td>1.827573</td>\n",
       "      <td>1.19</td>\n",
       "    </tr>\n",
       "    <tr>\n",
       "      <th>9</th>\n",
       "      <td>1.607190</td>\n",
       "      <td>1.64</td>\n",
       "    </tr>\n",
       "    <tr>\n",
       "      <th>10</th>\n",
       "      <td>2.064178</td>\n",
       "      <td>1.42</td>\n",
       "    </tr>\n",
       "    <tr>\n",
       "      <th>11</th>\n",
       "      <td>2.708764</td>\n",
       "      <td>3.31</td>\n",
       "    </tr>\n",
       "    <tr>\n",
       "      <th>12</th>\n",
       "      <td>2.386308</td>\n",
       "      <td>1.24</td>\n",
       "    </tr>\n",
       "    <tr>\n",
       "      <th>13</th>\n",
       "      <td>2.155864</td>\n",
       "      <td>1.22</td>\n",
       "    </tr>\n",
       "    <tr>\n",
       "      <th>14</th>\n",
       "      <td>2.100297</td>\n",
       "      <td>1.10</td>\n",
       "    </tr>\n",
       "    <tr>\n",
       "      <th>15</th>\n",
       "      <td>2.439962</td>\n",
       "      <td>1.53</td>\n",
       "    </tr>\n",
       "    <tr>\n",
       "      <th>16</th>\n",
       "      <td>2.309768</td>\n",
       "      <td>1.63</td>\n",
       "    </tr>\n",
       "    <tr>\n",
       "      <th>17</th>\n",
       "      <td>2.392046</td>\n",
       "      <td>2.57</td>\n",
       "    </tr>\n",
       "    <tr>\n",
       "      <th>18</th>\n",
       "      <td>2.836424</td>\n",
       "      <td>1.69</td>\n",
       "    </tr>\n",
       "    <tr>\n",
       "      <th>19</th>\n",
       "      <td>1.328478</td>\n",
       "      <td>1.20</td>\n",
       "    </tr>\n",
       "  </tbody>\n",
       "</table>\n",
       "</div>"
      ],
      "text/plain": [
       "    Prediction  Test Data\n",
       "0     1.790057       2.05\n",
       "1     1.399240       0.99\n",
       "2     2.184656       2.93\n",
       "3     2.566644       4.79\n",
       "4     2.366381       1.69\n",
       "5     2.471677       1.85\n",
       "6     3.373766       2.09\n",
       "7     1.506497       1.08\n",
       "8     1.827573       1.19\n",
       "9     1.607190       1.64\n",
       "10    2.064178       1.42\n",
       "11    2.708764       3.31\n",
       "12    2.386308       1.24\n",
       "13    2.155864       1.22\n",
       "14    2.100297       1.10\n",
       "15    2.439962       1.53\n",
       "16    2.309768       1.63\n",
       "17    2.392046       2.57\n",
       "18    2.836424       1.69\n",
       "19    1.328478       1.20"
      ]
     },
     "execution_count": 69,
     "metadata": {},
     "output_type": "execute_result"
    }
   ],
   "source": [
    "# Comparing the raw predicted values and the corresponding test data\n",
    "compare = pd.DataFrame({'Prediction': y_pred_final, 'Test Data': y_test})\n",
    "compare.head(20)"
   ]
  },
  {
   "cell_type": "code",
   "execution_count": 71,
   "metadata": {},
   "outputs": [
    {
     "name": "stderr",
     "output_type": "stream",
     "text": [
      "C:\\Users\\Adam\\Anaconda3\\lib\\site-packages\\matplotlib\\figure.py:459: UserWarning: matplotlib is currently using a non-GUI backend, so cannot show the figure\n",
      "  \"matplotlib is currently using a non-GUI backend, \"\n"
     ]
    },
    {
     "data": {
      "image/png": "[encoded data removed]",
      "text/plain": [
       "<Figure size 1440x720 with 1 Axes>"
      ]
     },
     "metadata": {},
     "output_type": "display_data"
    }
   ],
   "source": [
    "# GBR performance \n",
    "fig = plt.figure(figsize = (20, 10))\n",
    "ax = fig.add_subplot(111)\n",
    "ax.set(title = 'GBR', xlabel = 'Y values (actual)', ylabel = 'Y values (predicted)')\n",
    "ax.scatter(y_test, y_pred_final)\n",
    "ax.plot([0, max(y_test)], [0, max(y_pred_final)], color = 'r')\n",
    "fig.show();"
   ]
  }
 ],
 "metadata": {
  "kernelspec": {
   "display_name": "Python 3",
   "language": "python",
   "name": "python3"
  },
  "language_info": {
   "codemirror_mode": {
    "name": "ipython",
    "version": 3
   },
   "file_extension": ".py",
   "mimetype": "text/x-python",
   "name": "python",
   "nbconvert_exporter": "python",
   "pygments_lexer": "ipython3",
   "version": "3.6.4"
  }
 },
 "nbformat": 4,
 "nbformat_minor": 2
}
